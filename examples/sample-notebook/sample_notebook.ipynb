{
 "cells": [
  {
   "cell_type": "code",
   "execution_count": 2,
   "metadata": {},
   "outputs": [
    {
     "name": "stdout",
     "output_type": "stream",
     "text": [
      "[[123, 5], [882, 4]]\n"
     ]
    }
   ],
   "source": [
    "from hashlib import new\n",
    "import chroma_client\n",
    "\n",
    "new_labels = chroma_client.fetch_new_labels()\n",
    "print(new_labels)   "
   ]
  }
 ],
 "metadata": {
  "kernelspec": {
   "display_name": "Python 3.9.2 64-bit ('3.9.2')",
   "language": "python",
   "name": "python3"
  },
  "language_info": {
   "codemirror_mode": {
    "name": "ipython",
    "version": 3
   },
   "file_extension": ".py",
   "mimetype": "text/x-python",
   "name": "python",
   "nbconvert_exporter": "python",
   "pygments_lexer": "ipython3",
   "version": "3.9.2"
  },
  "orig_nbformat": 4,
  "vscode": {
   "interpreter": {
    "hash": "2cee379e823f0be65cc8e76dec88cd29dba28d635fb42abca317c93103c7b3ac"
   }
  }
 },
 "nbformat": 4,
 "nbformat_minor": 2
}
