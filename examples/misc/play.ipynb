{
 "cells": [
  {
   "cell_type": "code",
   "execution_count": 3,
   "metadata": {},
   "outputs": [
    {
     "data": {
      "text/plain": [
       "True"
      ]
     },
     "execution_count": 3,
     "metadata": {},
     "output_type": "execute_result"
    }
   ],
   "source": [
    "from chroma_client import Chroma\n",
    "\n",
    "chroma = Chroma(url=\"http://localhost:8000\")\n",
    "chroma.log(\n",
    "    embedding_data=[1,2,3,4,5,6,7,8,9,10],\n",
    "    metadata={\"test\": \"test\"},\n",
    "    input_uri=\"https://www.google.com\",\n",
    "    inference_data={\"test\": \"test\"},\n",
    ")\n",
    "    "
   ]
  },
  {
   "cell_type": "code",
   "execution_count": 5,
   "metadata": {},
   "outputs": [
    {
     "ename": "AttributeError",
     "evalue": "'Chroma' object has no attribute 'get_all'",
     "output_type": "error",
     "traceback": [
      "\u001b[0;31m---------------------------------------------------------------------------\u001b[0m",
      "\u001b[0;31mAttributeError\u001b[0m                            Traceback (most recent call last)",
      "Cell \u001b[0;32mIn [5], line 1\u001b[0m\n\u001b[0;32m----> 1\u001b[0m chroma\u001b[39m.\u001b[39;49mget_all()\n",
      "\u001b[0;31mAttributeError\u001b[0m: 'Chroma' object has no attribute 'get_all'"
     ]
    }
   ],
   "source": [
    "chroma.get_all()"
   ]
  }
 ],
 "metadata": {
  "kernelspec": {
   "display_name": "Python 3.9.2 64-bit ('3.9.2')",
   "language": "python",
   "name": "python3"
  },
  "language_info": {
   "codemirror_mode": {
    "name": "ipython",
    "version": 3
   },
   "file_extension": ".py",
   "mimetype": "text/x-python",
   "name": "python",
   "nbconvert_exporter": "python",
   "pygments_lexer": "ipython3",
   "version": "3.9.2"
  },
  "orig_nbformat": 4,
  "vscode": {
   "interpreter": {
    "hash": "2cee379e823f0be65cc8e76dec88cd29dba28d635fb42abca317c93103c7b3ac"
   }
  }
 },
 "nbformat": 4,
 "nbformat_minor": 2
}
