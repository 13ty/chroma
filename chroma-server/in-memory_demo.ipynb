{
 "cells": [
  {
   "cell_type": "code",
   "execution_count": 1,
   "metadata": {},
   "outputs": [
    {
     "name": "stdout",
     "output_type": "stream",
     "text": [
      "{'response': 'Added records to database'}\n",
      "{'count': 1}\n",
      "time to fetch 1 embeddings:  0.00019598007202148438\n",
      "[('test', '64a726a7-5c9a-4c9f-96f4-71256afb142c', [1.0, 2.0, 3.0, 4.0, 5.0, 6.0, 7.0, 8.0, 9.0, 10.0], 'a', 'test', 't', 't')]\n",
      "time to fetch 7 embeddings:  0.00016307830810546875\n",
      "time to fetch 1 embeddings:  0.00018525123596191406\n",
      "{'ids': ['64a726a7-5c9a-4c9f-96f4-71256afb142c'], 'embeddings':   model_space                                  uuid  \\\n",
      "0        test  64a726a7-5c9a-4c9f-96f4-71256afb142c   \n",
      "\n",
      "                                           embedding input_uri dataset  \\\n",
      "0  [1.0, 2.0, 3.0, 4.0, 5.0, 6.0, 7.0, 8.0, 9.0, ...         a    test   \n",
      "\n",
      "  inference_class label_class  \n",
      "0               t           t  , 'distances': [0.0]}\n"
     ]
    }
   ],
   "source": [
    "\n",
    "import os\n",
    "import json\n",
    "os.environ['CHROMA_MODE'] = 'in-memory'\n",
    "\n",
    "from chroma_server.api import core as chroma_core, AddEmbedding, FetchEmbedding, ProcessEmbedding, QueryEmbedding\n",
    "\n",
    "# app = app\n",
    "new_embedding = AddEmbedding(\n",
    "    embedding = [[1,2,3,4,5,6,7,8,9,10]],\n",
    "    model_space = 'test',\n",
    "    dataset = 'test',\n",
    "    input_uri = 'asdf.png',\n",
    "    inference_class = 'test',\n",
    "    label_class = 'test'\n",
    ")\n",
    "\n",
    "print(await chroma_core.add(new_embedding))\n",
    "print(await chroma_core.count(model_space=\"test\"))\n",
    "\n",
    "print(await chroma_core.fetch(FetchEmbedding(where_filter={\"model_space\": \"test\"})))\n",
    "\n",
    "await chroma_core.create_index(ProcessEmbedding(model_space=\"test\"))\n",
    "\n",
    "print(await chroma_core.get_nearest_neighbors(QueryEmbedding(embedding=[[1,2,3,4,5,6,7,8,9,10]], n_results=10, where_filter={\"model_space\": \"test\"})))"
   ]
  }
 ],
 "metadata": {
  "kernelspec": {
   "display_name": "Python 3.9.2 64-bit ('3.9.2')",
   "language": "python",
   "name": "python3"
  },
  "language_info": {
   "codemirror_mode": {
    "name": "ipython",
    "version": 3
   },
   "file_extension": ".py",
   "mimetype": "text/x-python",
   "name": "python",
   "nbconvert_exporter": "python",
   "pygments_lexer": "ipython3",
   "version": "3.9.2"
  },
  "orig_nbformat": 4,
  "vscode": {
   "interpreter": {
    "hash": "2cee379e823f0be65cc8e76dec88cd29dba28d635fb42abca317c93103c7b3ac"
   }
  }
 },
 "nbformat": 4,
 "nbformat_minor": 2
}
